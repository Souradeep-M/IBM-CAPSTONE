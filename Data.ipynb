{
 "cells": [
  {
   "cell_type": "markdown",
   "metadata": {},
   "source": [
    "# The Battle of Neighborhoods | Business Proposal | Data"
   ]
  },
  {
   "cell_type": "markdown",
   "metadata": {},
   "source": [
    "### Data\n",
    "\n",
    "Based on definition of our problem, factors that will influence our decision are:\n",
    "\n",
    "- The total number of crimes commited in each of the borough during the last year.\n",
    "- The most common venues in each of the neighborhood in the safest borough selected.\n",
    "\n",
    "Following data sources will be needed to extract/generate the required information:\n",
    "\n",
    "- Part 1: Preprocessing a real world data set from Kaggle showing the London Crimes from 2008 to 2016: A dataset consisting of the crime statistics of each borough in London obtained from Kaggle\n",
    "- Part 2: Scraping additional information of the different Boroughs in London from a Wikipedia page.: More information regarding the boroughs of London is scraped using the Beautifulsoup library\n",
    "- Part 3: Creating a new dataset of the Neighborhoods of the safest borough in London and generating their co-ordinates.: Co-ordinate of neighborhood will be obtained using Google Maps API geocoding"
   ]
  },
  {
   "cell_type": "markdown",
   "metadata": {},
   "source": [
    "### London Crime Data\n",
    "\n",
    "About this file\n",
    "\n",
    "    lsoa_code: code for Lower Super Output Area in Greater London.\n",
    "    borough: Common name for London borough.\n",
    "    major_category: High level categorization of crime\n",
    "    minor_category: Low level categorization of crime within major category.\n",
    "    value: monthly reported count of categorical crime in given borough\n",
    "    year: Year of reported counts, 2008-2016\n",
    "    month: Month of reported counts, 1-12\n",
    "\n",
    "Data set URL: https://www.kaggle.com/jboysen/london-crime"
   ]
  }
 ],
 "metadata": {
  "kernelspec": {
   "display_name": "Python 3",
   "language": "python",
   "name": "python3"
  },
  "language_info": {
   "codemirror_mode": {
    "name": "ipython",
    "version": 3
   },
   "file_extension": ".py",
   "mimetype": "text/x-python",
   "name": "python",
   "nbconvert_exporter": "python",
   "pygments_lexer": "ipython3",
   "version": "3.7.6"
  }
 },
 "nbformat": 4,
 "nbformat_minor": 4
}
